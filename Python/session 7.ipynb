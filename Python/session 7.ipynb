{
 "cells": [
  {
   "cell_type": "code",
   "execution_count": 5,
   "id": "6ad50060",
   "metadata": {},
   "outputs": [],
   "source": [
    "file = open('sample.txt','r')"
   ]
  },
  {
   "cell_type": "code",
   "execution_count": 6,
   "id": "ff79ae3b",
   "metadata": {},
   "outputs": [
    {
     "name": "stdout",
     "output_type": "stream",
     "text": [
      "Hello my G. \n",
      "Wassup my G?\n",
      "Fire my G.\n"
     ]
    }
   ],
   "source": [
    "print(file.read())"
   ]
  },
  {
   "cell_type": "code",
   "execution_count": 11,
   "id": "3de60031",
   "metadata": {},
   "outputs": [],
   "source": [
    "file1 = open('sample.txt','r')"
   ]
  },
  {
   "cell_type": "code",
   "execution_count": 12,
   "id": "473ac9f3",
   "metadata": {},
   "outputs": [
    {
     "name": "stdout",
     "output_type": "stream",
     "text": [
      "Hello my G. \n",
      "Wassup my G?\n"
     ]
    }
   ],
   "source": [
    "print(file1.readline(),end='')\n",
    "print(file1.readline(),end='')"
   ]
  },
  {
   "cell_type": "code",
   "execution_count": 13,
   "id": "d1a97361",
   "metadata": {},
   "outputs": [
    {
     "name": "stdout",
     "output_type": "stream",
     "text": [
      "Hello my G. \n",
      "\n",
      "Wassup my G?\n",
      "\n",
      "Fire my G.\n"
     ]
    }
   ],
   "source": [
    "f = open('sample.txt','r')\n",
    "for i in f:\n",
    "    print(i)"
   ]
  },
  {
   "cell_type": "code",
   "execution_count": 14,
   "id": "3c8e681a",
   "metadata": {},
   "outputs": [
    {
     "name": "stdout",
     "output_type": "stream",
     "text": [
      "enter ure age45\n",
      "age is printed on the text file\n",
      "enter ure age32\n"
     ]
    }
   ],
   "source": [
    "age = input('enter ure age')\n",
    "f = open('age.txt', 'w')\n",
    "f.write(age)\n",
    "print('age is printed on the text file')\n",
    "f.close()\n",
    "age1 = input('enter ure age')\n",
    "f = open('age.txt','a')\n",
    "w=f.write(age1)\n",
    "f.close()"
   ]
  },
  {
   "cell_type": "code",
   "execution_count": 15,
   "id": "84789a68",
   "metadata": {},
   "outputs": [
    {
     "name": "stdout",
     "output_type": "stream",
     "text": [
      "age.txt\n",
      "r\n",
      "False\n",
      "cp1252\n",
      "True\n"
     ]
    }
   ],
   "source": [
    "f = open('age.txt', 'r')\n",
    "print(f.name)\n",
    "print(f.mode)\n",
    "print(f.closed)\n",
    "print(f.encoding)\n",
    "f.close()\n",
    "print(f.closed)"
   ]
  },
  {
   "cell_type": "code",
   "execution_count": null,
   "id": "97b0a763",
   "metadata": {},
   "outputs": [],
   "source": [
    "f = open('bro.txt','w')\n",
    "f.write(input('enter some text'))\n",
    "f.write(input('enter some more'))\n",
    "f.close()\n"
   ]
  },
  {
   "cell_type": "code",
   "execution_count": null,
   "id": "fd987d9a",
   "metadata": {},
   "outputs": [],
   "source": []
  },
  {
   "cell_type": "code",
   "execution_count": null,
   "id": "01f3b633",
   "metadata": {},
   "outputs": [],
   "source": []
  },
  {
   "cell_type": "code",
   "execution_count": null,
   "id": "be97f138",
   "metadata": {},
   "outputs": [],
   "source": []
  },
  {
   "cell_type": "code",
   "execution_count": null,
   "id": "014a0441",
   "metadata": {},
   "outputs": [],
   "source": []
  },
  {
   "cell_type": "code",
   "execution_count": null,
   "id": "00add4f1",
   "metadata": {},
   "outputs": [],
   "source": []
  },
  {
   "cell_type": "code",
   "execution_count": null,
   "id": "e0934941",
   "metadata": {},
   "outputs": [],
   "source": []
  }
 ],
 "metadata": {
  "kernelspec": {
   "display_name": "Python 3 (ipykernel)",
   "language": "python",
   "name": "python3"
  },
  "language_info": {
   "codemirror_mode": {
    "name": "ipython",
    "version": 3
   },
   "file_extension": ".py",
   "mimetype": "text/x-python",
   "name": "python",
   "nbconvert_exporter": "python",
   "pygments_lexer": "ipython3",
   "version": "3.9.12"
  }
 },
 "nbformat": 4,
 "nbformat_minor": 5
}
