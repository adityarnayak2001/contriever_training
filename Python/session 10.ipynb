{
 "cells": [
  {
   "cell_type": "code",
   "execution_count": 82,
   "metadata": {},
   "outputs": [],
   "source": [
    "import pandas as pd\n",
    "import numpy as np\n",
    "import xlsxwriter as xw\n",
    "import xlrd as xr\n",
    "import openpyxl as oxl\n",
    "import matplotlib.pyplot as plt\n",
    "from scipy import stats\n",
    "import random"
   ]
  },
  {
   "cell_type": "code",
   "execution_count": 83,
   "metadata": {},
   "outputs": [
    {
     "data": {
      "text/plain": [
       "1     22\n",
       "2     93\n",
       "3    234\n",
       "4    123\n",
       "5     43\n",
       "6     12\n",
       "dtype: int64"
      ]
     },
     "execution_count": 83,
     "metadata": {},
     "output_type": "execute_result"
    }
   ],
   "source": [
    "a=[22,93,234,123,43,12]\n",
    "pd.Series(a,index=[1,2,3,4,5,6])"
   ]
  },
  {
   "cell_type": "code",
   "execution_count": 84,
   "metadata": {},
   "outputs": [
    {
     "data": {
      "text/plain": [
       "i       22\n",
       "ii      93\n",
       "iii    234\n",
       "iv     123\n",
       "v       43\n",
       "vi      12\n",
       "dtype: int64"
      ]
     },
     "execution_count": 84,
     "metadata": {},
     "output_type": "execute_result"
    }
   ],
   "source": [
    "b=[22,93,234,123,43,12]\n",
    "pd.Series(a,index=['i','ii','iii','iv','v',\"vi\"])"
   ]
  },
  {
   "cell_type": "code",
   "execution_count": 85,
   "metadata": {},
   "outputs": [
    {
     "name": "stderr",
     "output_type": "stream",
     "text": [
      "C:\\Users\\ADITYA\\AppData\\Local\\Temp\\ipykernel_1832\\1910758468.py:1: FutureWarning: The default dtype for empty Series will be 'object' instead of 'float64' in a future version. Specify a dtype explicitly to silence this warning.\n",
      "  sd=pd.Series()\n"
     ]
    }
   ],
   "source": [
    "sd=pd.Series()"
   ]
  },
  {
   "cell_type": "code",
   "execution_count": 86,
   "metadata": {},
   "outputs": [
    {
     "data": {
      "text/plain": [
       "Series([], dtype: float64)"
      ]
     },
     "execution_count": 86,
     "metadata": {},
     "output_type": "execute_result"
    }
   ],
   "source": [
    "sd"
   ]
  },
  {
   "cell_type": "code",
   "execution_count": 87,
   "metadata": {},
   "outputs": [
    {
     "data": {
      "text/html": [
       "<div>\n",
       "<style scoped>\n",
       "    .dataframe tbody tr th:only-of-type {\n",
       "        vertical-align: middle;\n",
       "    }\n",
       "\n",
       "    .dataframe tbody tr th {\n",
       "        vertical-align: top;\n",
       "    }\n",
       "\n",
       "    .dataframe thead th {\n",
       "        text-align: right;\n",
       "    }\n",
       "</style>\n",
       "<table border=\"1\" class=\"dataframe\">\n",
       "  <thead>\n",
       "    <tr style=\"text-align: right;\">\n",
       "      <th></th>\n",
       "      <th>Postcode</th>\n",
       "      <th>Sales_Rep_ID</th>\n",
       "      <th>Sales_Rep_Name</th>\n",
       "      <th>Year</th>\n",
       "      <th>Value</th>\n",
       "    </tr>\n",
       "  </thead>\n",
       "  <tbody>\n",
       "    <tr>\n",
       "      <th>0</th>\n",
       "      <td>2121</td>\n",
       "      <td>456</td>\n",
       "      <td>Jane</td>\n",
       "      <td>2011</td>\n",
       "      <td>84219.497311</td>\n",
       "    </tr>\n",
       "    <tr>\n",
       "      <th>1</th>\n",
       "      <td>2092</td>\n",
       "      <td>789</td>\n",
       "      <td>Ashish</td>\n",
       "      <td>2012</td>\n",
       "      <td>28322.192268</td>\n",
       "    </tr>\n",
       "    <tr>\n",
       "      <th>2</th>\n",
       "      <td>2128</td>\n",
       "      <td>456</td>\n",
       "      <td>Jane</td>\n",
       "      <td>2013</td>\n",
       "      <td>81878.997241</td>\n",
       "    </tr>\n",
       "    <tr>\n",
       "      <th>3</th>\n",
       "      <td>2073</td>\n",
       "      <td>123</td>\n",
       "      <td>John</td>\n",
       "      <td>2011</td>\n",
       "      <td>44491.142121</td>\n",
       "    </tr>\n",
       "    <tr>\n",
       "      <th>4</th>\n",
       "      <td>2134</td>\n",
       "      <td>789</td>\n",
       "      <td>Ashish</td>\n",
       "      <td>2012</td>\n",
       "      <td>71837.720959</td>\n",
       "    </tr>\n",
       "    <tr>\n",
       "      <th>...</th>\n",
       "      <td>...</td>\n",
       "      <td>...</td>\n",
       "      <td>...</td>\n",
       "      <td>...</td>\n",
       "      <td>...</td>\n",
       "    </tr>\n",
       "    <tr>\n",
       "      <th>385</th>\n",
       "      <td>2164</td>\n",
       "      <td>123</td>\n",
       "      <td>John</td>\n",
       "      <td>2012</td>\n",
       "      <td>88884.535217</td>\n",
       "    </tr>\n",
       "    <tr>\n",
       "      <th>386</th>\n",
       "      <td>2193</td>\n",
       "      <td>456</td>\n",
       "      <td>Jane</td>\n",
       "      <td>2013</td>\n",
       "      <td>79440.290813</td>\n",
       "    </tr>\n",
       "    <tr>\n",
       "      <th>387</th>\n",
       "      <td>2031</td>\n",
       "      <td>123</td>\n",
       "      <td>John</td>\n",
       "      <td>2011</td>\n",
       "      <td>65643.689454</td>\n",
       "    </tr>\n",
       "    <tr>\n",
       "      <th>388</th>\n",
       "      <td>2130</td>\n",
       "      <td>456</td>\n",
       "      <td>Jane</td>\n",
       "      <td>2012</td>\n",
       "      <td>66247.874869</td>\n",
       "    </tr>\n",
       "    <tr>\n",
       "      <th>389</th>\n",
       "      <td>2116</td>\n",
       "      <td>456</td>\n",
       "      <td>Jane</td>\n",
       "      <td>2013</td>\n",
       "      <td>3195.699054</td>\n",
       "    </tr>\n",
       "  </tbody>\n",
       "</table>\n",
       "<p>390 rows × 5 columns</p>\n",
       "</div>"
      ],
      "text/plain": [
       "     Postcode  Sales_Rep_ID Sales_Rep_Name  Year         Value\n",
       "0        2121           456           Jane  2011  84219.497311\n",
       "1        2092           789         Ashish  2012  28322.192268\n",
       "2        2128           456           Jane  2013  81878.997241\n",
       "3        2073           123           John  2011  44491.142121\n",
       "4        2134           789         Ashish  2012  71837.720959\n",
       "..        ...           ...            ...   ...           ...\n",
       "385      2164           123           John  2012  88884.535217\n",
       "386      2193           456           Jane  2013  79440.290813\n",
       "387      2031           123           John  2011  65643.689454\n",
       "388      2130           456           Jane  2012  66247.874869\n",
       "389      2116           456           Jane  2013   3195.699054\n",
       "\n",
       "[390 rows x 5 columns]"
      ]
     },
     "execution_count": 87,
     "metadata": {},
     "output_type": "execute_result"
    }
   ],
   "source": [
    "data=pd.read_excel(\"C:\\\\Users\\\\ADITYA\\\\Documents\\\\GitHub\\\\contriever_training\\\\Python\\\\sample1.xlsx\")\n",
    "data"
   ]
  },
  {
   "cell_type": "code",
   "execution_count": 88,
   "metadata": {},
   "outputs": [
    {
     "data": {
      "text/html": [
       "<div>\n",
       "<style scoped>\n",
       "    .dataframe tbody tr th:only-of-type {\n",
       "        vertical-align: middle;\n",
       "    }\n",
       "\n",
       "    .dataframe tbody tr th {\n",
       "        vertical-align: top;\n",
       "    }\n",
       "\n",
       "    .dataframe thead th {\n",
       "        text-align: right;\n",
       "    }\n",
       "</style>\n",
       "<table border=\"1\" class=\"dataframe\">\n",
       "  <thead>\n",
       "    <tr style=\"text-align: right;\">\n",
       "      <th></th>\n",
       "      <th>Postcode</th>\n",
       "      <th>Sales_Rep_ID</th>\n",
       "      <th>Sales_Rep_Name</th>\n",
       "      <th>Year</th>\n",
       "      <th>Value</th>\n",
       "    </tr>\n",
       "  </thead>\n",
       "  <tbody>\n",
       "    <tr>\n",
       "      <th>0</th>\n",
       "      <td>2121</td>\n",
       "      <td>456</td>\n",
       "      <td>Jane</td>\n",
       "      <td>2011</td>\n",
       "      <td>84219.497311</td>\n",
       "    </tr>\n",
       "    <tr>\n",
       "      <th>1</th>\n",
       "      <td>2092</td>\n",
       "      <td>789</td>\n",
       "      <td>Ashish</td>\n",
       "      <td>2012</td>\n",
       "      <td>28322.192268</td>\n",
       "    </tr>\n",
       "    <tr>\n",
       "      <th>2</th>\n",
       "      <td>2128</td>\n",
       "      <td>456</td>\n",
       "      <td>Jane</td>\n",
       "      <td>2013</td>\n",
       "      <td>81878.997241</td>\n",
       "    </tr>\n",
       "    <tr>\n",
       "      <th>3</th>\n",
       "      <td>2073</td>\n",
       "      <td>123</td>\n",
       "      <td>John</td>\n",
       "      <td>2011</td>\n",
       "      <td>44491.142121</td>\n",
       "    </tr>\n",
       "    <tr>\n",
       "      <th>4</th>\n",
       "      <td>2134</td>\n",
       "      <td>789</td>\n",
       "      <td>Ashish</td>\n",
       "      <td>2012</td>\n",
       "      <td>71837.720959</td>\n",
       "    </tr>\n",
       "    <tr>\n",
       "      <th>...</th>\n",
       "      <td>...</td>\n",
       "      <td>...</td>\n",
       "      <td>...</td>\n",
       "      <td>...</td>\n",
       "      <td>...</td>\n",
       "    </tr>\n",
       "    <tr>\n",
       "      <th>385</th>\n",
       "      <td>2164</td>\n",
       "      <td>123</td>\n",
       "      <td>John</td>\n",
       "      <td>2012</td>\n",
       "      <td>88884.535217</td>\n",
       "    </tr>\n",
       "    <tr>\n",
       "      <th>386</th>\n",
       "      <td>2193</td>\n",
       "      <td>456</td>\n",
       "      <td>Jane</td>\n",
       "      <td>2013</td>\n",
       "      <td>79440.290813</td>\n",
       "    </tr>\n",
       "    <tr>\n",
       "      <th>387</th>\n",
       "      <td>2031</td>\n",
       "      <td>123</td>\n",
       "      <td>John</td>\n",
       "      <td>2011</td>\n",
       "      <td>65643.689454</td>\n",
       "    </tr>\n",
       "    <tr>\n",
       "      <th>388</th>\n",
       "      <td>2130</td>\n",
       "      <td>456</td>\n",
       "      <td>Jane</td>\n",
       "      <td>2012</td>\n",
       "      <td>66247.874869</td>\n",
       "    </tr>\n",
       "    <tr>\n",
       "      <th>389</th>\n",
       "      <td>2116</td>\n",
       "      <td>456</td>\n",
       "      <td>Jane</td>\n",
       "      <td>2013</td>\n",
       "      <td>3195.699054</td>\n",
       "    </tr>\n",
       "  </tbody>\n",
       "</table>\n",
       "<p>390 rows × 5 columns</p>\n",
       "</div>"
      ],
      "text/plain": [
       "     Postcode  Sales_Rep_ID Sales_Rep_Name  Year         Value\n",
       "0        2121           456           Jane  2011  84219.497311\n",
       "1        2092           789         Ashish  2012  28322.192268\n",
       "2        2128           456           Jane  2013  81878.997241\n",
       "3        2073           123           John  2011  44491.142121\n",
       "4        2134           789         Ashish  2012  71837.720959\n",
       "..        ...           ...            ...   ...           ...\n",
       "385      2164           123           John  2012  88884.535217\n",
       "386      2193           456           Jane  2013  79440.290813\n",
       "387      2031           123           John  2011  65643.689454\n",
       "388      2130           456           Jane  2012  66247.874869\n",
       "389      2116           456           Jane  2013   3195.699054\n",
       "\n",
       "[390 rows x 5 columns]"
      ]
     },
     "execution_count": 88,
     "metadata": {},
     "output_type": "execute_result"
    }
   ],
   "source": [
    "data.head(616)"
   ]
  },
  {
   "cell_type": "code",
   "execution_count": 89,
   "metadata": {},
   "outputs": [
    {
     "data": {
      "text/html": [
       "<div>\n",
       "<style scoped>\n",
       "    .dataframe tbody tr th:only-of-type {\n",
       "        vertical-align: middle;\n",
       "    }\n",
       "\n",
       "    .dataframe tbody tr th {\n",
       "        vertical-align: top;\n",
       "    }\n",
       "\n",
       "    .dataframe thead th {\n",
       "        text-align: right;\n",
       "    }\n",
       "</style>\n",
       "<table border=\"1\" class=\"dataframe\">\n",
       "  <thead>\n",
       "    <tr style=\"text-align: right;\">\n",
       "      <th></th>\n",
       "      <th>Postcode</th>\n",
       "      <th>Sales_Rep_ID</th>\n",
       "      <th>Sales_Rep_Name</th>\n",
       "      <th>Year</th>\n",
       "      <th>Value</th>\n",
       "    </tr>\n",
       "  </thead>\n",
       "  <tbody>\n",
       "    <tr>\n",
       "      <th>0</th>\n",
       "      <td>2121</td>\n",
       "      <td>456</td>\n",
       "      <td>Jane</td>\n",
       "      <td>2011</td>\n",
       "      <td>84219.497311</td>\n",
       "    </tr>\n",
       "    <tr>\n",
       "      <th>1</th>\n",
       "      <td>2092</td>\n",
       "      <td>789</td>\n",
       "      <td>Ashish</td>\n",
       "      <td>2012</td>\n",
       "      <td>28322.192268</td>\n",
       "    </tr>\n",
       "    <tr>\n",
       "      <th>2</th>\n",
       "      <td>2128</td>\n",
       "      <td>456</td>\n",
       "      <td>Jane</td>\n",
       "      <td>2013</td>\n",
       "      <td>81878.997241</td>\n",
       "    </tr>\n",
       "    <tr>\n",
       "      <th>3</th>\n",
       "      <td>2073</td>\n",
       "      <td>123</td>\n",
       "      <td>John</td>\n",
       "      <td>2011</td>\n",
       "      <td>44491.142121</td>\n",
       "    </tr>\n",
       "    <tr>\n",
       "      <th>4</th>\n",
       "      <td>2134</td>\n",
       "      <td>789</td>\n",
       "      <td>Ashish</td>\n",
       "      <td>2012</td>\n",
       "      <td>71837.720959</td>\n",
       "    </tr>\n",
       "    <tr>\n",
       "      <th>...</th>\n",
       "      <td>...</td>\n",
       "      <td>...</td>\n",
       "      <td>...</td>\n",
       "      <td>...</td>\n",
       "      <td>...</td>\n",
       "    </tr>\n",
       "    <tr>\n",
       "      <th>385</th>\n",
       "      <td>2164</td>\n",
       "      <td>123</td>\n",
       "      <td>John</td>\n",
       "      <td>2012</td>\n",
       "      <td>88884.535217</td>\n",
       "    </tr>\n",
       "    <tr>\n",
       "      <th>386</th>\n",
       "      <td>2193</td>\n",
       "      <td>456</td>\n",
       "      <td>Jane</td>\n",
       "      <td>2013</td>\n",
       "      <td>79440.290813</td>\n",
       "    </tr>\n",
       "    <tr>\n",
       "      <th>387</th>\n",
       "      <td>2031</td>\n",
       "      <td>123</td>\n",
       "      <td>John</td>\n",
       "      <td>2011</td>\n",
       "      <td>65643.689454</td>\n",
       "    </tr>\n",
       "    <tr>\n",
       "      <th>388</th>\n",
       "      <td>2130</td>\n",
       "      <td>456</td>\n",
       "      <td>Jane</td>\n",
       "      <td>2012</td>\n",
       "      <td>66247.874869</td>\n",
       "    </tr>\n",
       "    <tr>\n",
       "      <th>389</th>\n",
       "      <td>2116</td>\n",
       "      <td>456</td>\n",
       "      <td>Jane</td>\n",
       "      <td>2013</td>\n",
       "      <td>3195.699054</td>\n",
       "    </tr>\n",
       "  </tbody>\n",
       "</table>\n",
       "<p>390 rows × 5 columns</p>\n",
       "</div>"
      ],
      "text/plain": [
       "     Postcode  Sales_Rep_ID Sales_Rep_Name  Year         Value\n",
       "0        2121           456           Jane  2011  84219.497311\n",
       "1        2092           789         Ashish  2012  28322.192268\n",
       "2        2128           456           Jane  2013  81878.997241\n",
       "3        2073           123           John  2011  44491.142121\n",
       "4        2134           789         Ashish  2012  71837.720959\n",
       "..        ...           ...            ...   ...           ...\n",
       "385      2164           123           John  2012  88884.535217\n",
       "386      2193           456           Jane  2013  79440.290813\n",
       "387      2031           123           John  2011  65643.689454\n",
       "388      2130           456           Jane  2012  66247.874869\n",
       "389      2116           456           Jane  2013   3195.699054\n",
       "\n",
       "[390 rows x 5 columns]"
      ]
     },
     "execution_count": 89,
     "metadata": {},
     "output_type": "execute_result"
    }
   ],
   "source": [
    "df=pd.DataFrame(data)\n",
    "df"
   ]
  },
  {
   "cell_type": "code",
   "execution_count": 90,
   "metadata": {},
   "outputs": [
    {
     "data": {
      "text/plain": [
       "Index(['Postcode', 'Sales_Rep_ID', 'Sales_Rep_Name', 'Year', 'Value'], dtype='object')"
      ]
     },
     "execution_count": 90,
     "metadata": {},
     "output_type": "execute_result"
    }
   ],
   "source": [
    "df.columns"
   ]
  },
  {
   "cell_type": "code",
   "execution_count": 91,
   "metadata": {},
   "outputs": [
    {
     "data": {
      "text/plain": [
       "2011    130\n",
       "2012    130\n",
       "2013    130\n",
       "Name: Year, dtype: int64"
      ]
     },
     "execution_count": 91,
     "metadata": {},
     "output_type": "execute_result"
    }
   ],
   "source": [
    "df['Year'].value_counts()"
   ]
  },
  {
   "cell_type": "code",
   "execution_count": 92,
   "metadata": {},
   "outputs": [],
   "source": [
    "d={'postcode':[2121,2091,3987,7665],\n",
    "    'Sales_rep_Id':[234,456,789,123],\n",
    "    'sales_rep_name':['Tina','Rad','Mia','Paxton']}\n",
    "dd=pd.DataFrame(d)"
   ]
  },
  {
   "cell_type": "code",
   "execution_count": 93,
   "metadata": {},
   "outputs": [],
   "source": [
    "writeInExcel = pd.ExcelWriter(\"./Demo.xlsx\",engine=\"xlsxwriter\")\n",
    "same=dd.to_excel(writeInExcel,sheet_name='Sheet1',index=False)\n",
    "writeInExcel.close()"
   ]
  },
  {
   "cell_type": "code",
   "execution_count": 94,
   "metadata": {},
   "outputs": [],
   "source": [
    "f={'Actor_Name':[\"Bradley Cooper\",\"Tom Cruise\",\"Daniel Day Lewis\",\"Timothée Chalamet\"],\n",
    "    'Sales_rep_Id':[48,60,65,17],\n",
    "    'Career_Status':['Acting','Acting','Retired','Acting']}\n",
    "dd=pd.DataFrame(f)"
   ]
  },
  {
   "cell_type": "code",
   "execution_count": 95,
   "metadata": {},
   "outputs": [
    {
     "data": {
      "text/html": [
       "<div>\n",
       "<style scoped>\n",
       "    .dataframe tbody tr th:only-of-type {\n",
       "        vertical-align: middle;\n",
       "    }\n",
       "\n",
       "    .dataframe tbody tr th {\n",
       "        vertical-align: top;\n",
       "    }\n",
       "\n",
       "    .dataframe thead th {\n",
       "        text-align: right;\n",
       "    }\n",
       "</style>\n",
       "<table border=\"1\" class=\"dataframe\">\n",
       "  <thead>\n",
       "    <tr style=\"text-align: right;\">\n",
       "      <th></th>\n",
       "      <th>Actor_Name</th>\n",
       "      <th>Sales_rep_Id</th>\n",
       "      <th>Career_Status</th>\n",
       "    </tr>\n",
       "  </thead>\n",
       "  <tbody>\n",
       "    <tr>\n",
       "      <th>0</th>\n",
       "      <td>Bradley Cooper</td>\n",
       "      <td>48</td>\n",
       "      <td>Acting</td>\n",
       "    </tr>\n",
       "    <tr>\n",
       "      <th>1</th>\n",
       "      <td>Tom Cruise</td>\n",
       "      <td>60</td>\n",
       "      <td>Acting</td>\n",
       "    </tr>\n",
       "    <tr>\n",
       "      <th>2</th>\n",
       "      <td>Daniel Day Lewis</td>\n",
       "      <td>65</td>\n",
       "      <td>Retired</td>\n",
       "    </tr>\n",
       "    <tr>\n",
       "      <th>3</th>\n",
       "      <td>Timothée Chalamet</td>\n",
       "      <td>17</td>\n",
       "      <td>Acting</td>\n",
       "    </tr>\n",
       "  </tbody>\n",
       "</table>\n",
       "</div>"
      ],
      "text/plain": [
       "          Actor_Name  Sales_rep_Id Career_Status\n",
       "0     Bradley Cooper            48        Acting\n",
       "1         Tom Cruise            60        Acting\n",
       "2   Daniel Day Lewis            65       Retired\n",
       "3  Timothée Chalamet            17        Acting"
      ]
     },
     "execution_count": 95,
     "metadata": {},
     "output_type": "execute_result"
    }
   ],
   "source": [
    "dd"
   ]
  },
  {
   "cell_type": "code",
   "execution_count": 96,
   "metadata": {},
   "outputs": [],
   "source": [
    "wb=oxl.load_workbook('Demo.xlsx')\n",
    "sh=wb.active"
   ]
  },
  {
   "cell_type": "code",
   "execution_count": 97,
   "metadata": {},
   "outputs": [
    {
     "data": {
      "text/plain": [
       "'postcode'"
      ]
     },
     "execution_count": 97,
     "metadata": {},
     "output_type": "execute_result"
    }
   ],
   "source": [
    "c=sh['A1']\n",
    "c.value"
   ]
  },
  {
   "cell_type": "code",
   "execution_count": 98,
   "metadata": {},
   "outputs": [
    {
     "data": {
      "text/plain": [
       "2121"
      ]
     },
     "execution_count": 98,
     "metadata": {},
     "output_type": "execute_result"
    }
   ],
   "source": [
    "c=sh['A2']\n",
    "c.value"
   ]
  },
  {
   "cell_type": "code",
   "execution_count": 99,
   "metadata": {},
   "outputs": [
    {
     "name": "stdout",
     "output_type": "stream",
     "text": [
      "postcode\n",
      "2121\n",
      "2091\n",
      "3987\n",
      "7665\n",
      "\n",
      "\n",
      "Sales_rep_Id\n",
      "234\n",
      "456\n",
      "789\n",
      "123\n",
      "\n",
      "\n",
      "sales_rep_name\n",
      "Tina\n",
      "Rad\n",
      "Mia\n",
      "Paxton\n",
      "\n",
      "\n"
     ]
    }
   ],
   "source": [
    "for x in [\"A\",\"B\",\"C\"]:\n",
    "    for y in range(1,6):\n",
    "        print(sh[x+str(y)].value)\n",
    "    print('\\n')"
   ]
  },
  {
   "cell_type": "code",
   "execution_count": 113,
   "metadata": {},
   "outputs": [],
   "source": [
    "x=[1,2,3,45,534,8,5,8,66,89,25,25,62,78,56]\n",
    "y=random.sample(range(1,50,3),15)"
   ]
  },
  {
   "cell_type": "code",
   "execution_count": 114,
   "metadata": {},
   "outputs": [],
   "source": [
    "slope,intercept,r,p,str_err = stats.linregress(x,y)"
   ]
  },
  {
   "cell_type": "code",
   "execution_count": 115,
   "metadata": {},
   "outputs": [
    {
     "data": {
      "text/plain": [
       "[<matplotlib.lines.Line2D at 0x26564a35cd0>]"
      ]
     },
     "execution_count": 115,
     "metadata": {},
     "output_type": "execute_result"
    },
    {
     "data": {
      "image/png": "[encoded data removed]",
      "text/plain": [
       "<Figure size 640x480 with 1 Axes>"
      ]
     },
     "metadata": {},
     "output_type": "display_data"
    }
   ],
   "source": [
    "def myfunc(x):\n",
    "    return slope*x+intercept\n",
    "\n",
    "mymodel = list(map(myfunc,x))\n",
    "plt.scatter(x,y)\n",
    "plt.plot(x,mymodel)"
   ]
  },
  {
   "cell_type": "code",
   "execution_count": 116,
   "metadata": {},
   "outputs": [
    {
     "data": {
      "text/plain": [
       "[1, 4, 9, 2025, 285156, 64, 25, 64, 4356, 7921, 625, 625, 3844, 6084, 3136]"
      ]
     },
     "execution_count": 116,
     "metadata": {},
     "output_type": "execute_result"
    }
   ],
   "source": [
    "x=[1,2,3,45,534,8,5,8,66,89,25,25,62,78,56]\n",
    "y=[x**2 for x in x]\n",
    "y"
   ]
  },
  {
   "cell_type": "code",
   "execution_count": 117,
   "metadata": {},
   "outputs": [],
   "source": [
    "slope,intercept,r,p,str_err = stats.linregress(x,y)"
   ]
  },
  {
   "cell_type": "code",
   "execution_count": 118,
   "metadata": {},
   "outputs": [
    {
     "data": {
      "text/plain": [
       "[<matplotlib.lines.Line2D at 0x26564ab4790>]"
      ]
     },
     "execution_count": 118,
     "metadata": {},
     "output_type": "execute_result"
    },
    {
     "data": {
      "image/png": "[encoded data removed]",
      "text/plain": [
       "<Figure size 640x480 with 1 Axes>"
      ]
     },
     "metadata": {},
     "output_type": "display_data"
    }
   ],
   "source": [
    "def myfunc(x):\n",
    "    return slope*x+intercept\n",
    "\n",
    "mymodel = list(map(myfunc,x))\n",
    "plt.scatter(x,y)\n",
    "plt.plot(x,mymodel)"
   ]
  },
  {
   "cell_type": "code",
   "execution_count": 120,
   "metadata": {},
   "outputs": [
    {
     "data": {
      "text/plain": [
       "<matplotlib.collections.PathCollection at 0x265645ed850>"
      ]
     },
     "execution_count": 120,
     "metadata": {},
     "output_type": "execute_result"
    },
    {
     "data": {
      "image/png": "[encoded data removed]",
      "text/plain": [
       "<Figure size 640x480 with 1 Axes>"
      ]
     },
     "metadata": {},
     "output_type": "display_data"
    }
   ],
   "source": [
    "np.random.seed(4)\n",
    "x=np.random.normal(3.0,1.1,1000)\n",
    "y=np.random.normal(3.0,1.1,1000)/x\n",
    "plt.scatter(x,y)"
   ]
  },
  {
   "cell_type": "code",
   "execution_count": 121,
   "metadata": {},
   "outputs": [
    {
     "data": {
      "image/png": "[encoded data removed]",
      "text/plain": [
       "<Figure size 640x480 with 1 Axes>"
      ]
     },
     "metadata": {},
     "output_type": "display_data"
    }
   ],
   "source": [
    "a=np.array(x)\n",
    "b=np.array(y)\n",
    "p=np.poly1d(np.polyfit(a,b,9))\n",
    "xp=np.linspace(x,y)\n",
    "plt.plot(xp,p(xp),c='b')\n",
    "plt.show()"
   ]
  },
  {
   "cell_type": "code",
   "execution_count": null,
   "metadata": {},
   "outputs": [],
   "source": []
  }
 ],
 "metadata": {
  "kernelspec": {
   "display_name": "base",
   "language": "python",
   "name": "python3"
  },
  "language_info": {
   "codemirror_mode": {
    "name": "ipython",
    "version": 3
   },
   "file_extension": ".py",
   "mimetype": "text/x-python",
   "name": "python",
   "nbconvert_exporter": "python",
   "pygments_lexer": "ipython3",
   "version": "3.9.12"
  },
  "orig_nbformat": 4,
  "vscode": {
   "interpreter": {
    "hash": "3f1895313fe779cc7cc3618b197f790529e13cb16f59b29ecbf325dee8d29830"
   }
  }
 },
 "nbformat": 4,
 "nbformat_minor": 2
}
